{
 "cells": [
  {
   "cell_type": "markdown",
   "metadata": {},
   "source": [
    "# Instrucciones\n",
    "\n",
    "### Recomendaciones \n",
    "\n",
    "Si no saben, primero arriésguense, luego usen google (sobre todo documentaición). Las dudas será respondidas mañana en la mañana (primeros 30-40 min de clase) \n",
    "\n",
    "NO trabajen sobre los datos originales, siempre traten de crear variables que les presenten las cosas \n",
    "\n",
    "### Parte 1  - Presentación (5 puntos)\n",
    "\n",
    "Presenta tus resultados en una libreta de Jupyter de manera clara y concisa. Deberás explicar tu método de resolución, el algoritmo, las gráficas y/o DataFrame final y las conclusiones. \n",
    "\n",
    "### Parte 2 -  Preámbulo (5 puntos )\n",
    "\n",
    " - Presenta todo lo necesario para comenzar tu análisis de la información. Todo deberá estar comentado para que el usuario final y puede ser entendido\n",
    " \n",
    " ### Parte 3 - Análisis inicial (20 puntos)\n",
    " \n",
    " Presenta entrega el resultado y el código utilizado. Mientras más explícito, mejor. Mientras más bonito, mejor\n",
    " \n",
    " - ¿Cuántos países hay en la base de datos? ¿Cuáles son?\n",
    " - ¿Cuántos tipos de unidades se manejan? \n",
    " - ¿Cuáles son los indicadores medidos? ¿Cuántos son? \n",
    " - Descripción básica de los indicadores numéricos (estadística descriptiva) \n",
    " - ¿Podemos eliminar algunas columnas de nuestra base de datos sin perder información importante? Presenta la tabla y explica por qué eliminste dichas columnas\n",
    " - ¿Puedes cambiar en nombre de las columnas a español? \n",
    "\n",
    " ### Parte 4 - Búsqueda de datos (30 puntos)\n",
    " \n",
    " Imprime el los datos o Dataframes ( ¡Panditas! :D ) que se te solicitan (Recuerden no modificar el original) y entregenme sus observacioens de los datos (pueden usar gráficas\n",
    " \n",
    " - Imprime los valores de los indicadores para México, eliminando la columna del país) \n",
    " - Muestra los países con esperanza de vida femenina mayor al promedio general y sus datos \n",
    " - Muestra los países cuya seguridad al caminar en la noche es menor al promedio y sus valores \n",
    " - Muestra las columnas de los datos completos de los países con mejor satisfacción de vida. \n",
    " \n",
    " \n",
    "### Parte 5 - Información gráfica (40 puntos + 20 puntos extra)\n",
    "\n",
    "Entrega la gráficas con títulos, nombres en los ejes y mejora la presentación de las mismas (colores, número de cajas en el histograma, valores extra) . Así mismo deberán entregar la interpretación de las mismas. \n",
    "\n",
    "- Realiza 3 análisis de la relación entre dos variables. \n",
    "\n",
    "- Realizar 2 análisis donde se necesite usar histogramas. \n",
    "\n",
    "- Presenta un análisis utilizando una gráfica de barras de los indicadores para múltiples paises. (PUNTOS EXTRA) \n",
    "\n",
    "- Realicen una análisis de correlación para 4 variables (PUNTOS EXTRA) (¿Scatter or density?)\n",
    "\n",
    "### Parte 6 - Referencias para la tarea: \n",
    "\n",
    "- http://benalexkeen.com/correlation-in-python/\n",
    "- https://github.com/jakevdp/PythonDataScienceHandbook/tree/be23269c7eb119e093a6d5ce91e464f5e686d9ab/notebooks\n",
    "- https://machinelearningmastery.com/visualize-machine-learning-data-python-pandas/\n",
    "\n"
   ]
  },
  {
   "cell_type": "code",
   "execution_count": null,
   "metadata": {},
   "outputs": [],
   "source": []
  }
 ],
 "metadata": {
  "kernelspec": {
   "display_name": "Python 3",
   "language": "python",
   "name": "python3"
  },
  "language_info": {
   "codemirror_mode": {
    "name": "ipython",
    "version": 3
   },
   "file_extension": ".py",
   "mimetype": "text/x-python",
   "name": "python",
   "nbconvert_exporter": "python",
   "pygments_lexer": "ipython3",
   "version": "3.7.0"
  }
 },
 "nbformat": 4,
 "nbformat_minor": 2
}
