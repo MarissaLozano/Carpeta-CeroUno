{
 "cells": [
  {
   "cell_type": "markdown",
   "metadata": {},
   "source": [
    "## Ejercicio de regresión lineal"
   ]
  },
  {
   "cell_type": "code",
   "execution_count": 1,
   "metadata": {},
   "outputs": [],
   "source": [
    "## Importar librerías\n",
    "import pandas as pd  # recuerdas que puedes usar los alias que quieras para las librerias  es costumbre llamara 'pd' a pandas\n",
    "import numpy as np   # una genial implementación de álgebra lineal \n",
    "import matplotlib.pyplot as plt  # también es costumbre llamar 'plt' a el módulo 'pyplot' de 'matplotlib'"
   ]
  },
  {
   "cell_type": "code",
   "execution_count": 14,
   "metadata": {},
   "outputs": [],
   "source": [
    "## importar el archivo\n",
    "regresion = pd.read_csv('ejercicio_regresion.csv')"
   ]
  },
  {
   "cell_type": "code",
   "execution_count": 15,
   "metadata": {},
   "outputs": [
    {
     "data": {
      "text/html": [
       "<div>\n",
       "<style scoped>\n",
       "    .dataframe tbody tr th:only-of-type {\n",
       "        vertical-align: middle;\n",
       "    }\n",
       "\n",
       "    .dataframe tbody tr th {\n",
       "        vertical-align: top;\n",
       "    }\n",
       "\n",
       "    .dataframe thead th {\n",
       "        text-align: right;\n",
       "    }\n",
       "</style>\n",
       "<table border=\"1\" class=\"dataframe\">\n",
       "  <thead>\n",
       "    <tr style=\"text-align: right;\">\n",
       "      <th></th>\n",
       "      <th>Precio</th>\n",
       "      <th>Demanda</th>\n",
       "    </tr>\n",
       "  </thead>\n",
       "  <tbody>\n",
       "    <tr>\n",
       "      <th>0</th>\n",
       "      <td>4.0</td>\n",
       "      <td>7</td>\n",
       "    </tr>\n",
       "    <tr>\n",
       "      <th>1</th>\n",
       "      <td>3.5</td>\n",
       "      <td>7</td>\n",
       "    </tr>\n",
       "    <tr>\n",
       "      <th>2</th>\n",
       "      <td>5.0</td>\n",
       "      <td>5</td>\n",
       "    </tr>\n",
       "    <tr>\n",
       "      <th>3</th>\n",
       "      <td>6.0</td>\n",
       "      <td>4</td>\n",
       "    </tr>\n",
       "    <tr>\n",
       "      <th>4</th>\n",
       "      <td>6.5</td>\n",
       "      <td>4</td>\n",
       "    </tr>\n",
       "  </tbody>\n",
       "</table>\n",
       "</div>"
      ],
      "text/plain": [
       "   Precio  Demanda\n",
       "0     4.0        7\n",
       "1     3.5        7\n",
       "2     5.0        5\n",
       "3     6.0        4\n",
       "4     6.5        4"
      ]
     },
     "execution_count": 15,
     "metadata": {},
     "output_type": "execute_result"
    }
   ],
   "source": [
    "## regresion = regresion.rename(columns=lambda x: x.replace('Precio ($)', 'Precio')) esto es en caso de necesitar renombrar columnas\n",
    "regresion.head()"
   ]
  },
  {
   "cell_type": "code",
   "execution_count": 5,
   "metadata": {},
   "outputs": [],
   "source": [
    "train = regresion # entrenemos con todos los precions\n"
   ]
  },
  {
   "cell_type": "code",
   "execution_count": 6,
   "metadata": {},
   "outputs": [
    {
     "data": {
      "image/png": "[encoded data removed]",
      "text/plain": [
       "<Figure size 432x288 with 1 Axes>"
      ]
     },
     "metadata": {
      "needs_background": "light"
     },
     "output_type": "display_data"
    }
   ],
   "source": [
    "train.plot.scatter(x='Precio', y='Demanda')\n",
    "plt.show()"
   ]
  },
  {
   "cell_type": "code",
   "execution_count": 9,
   "metadata": {},
   "outputs": [
    {
     "data": {
      "image/png": "[encoded data removed]",
      "text/plain": [
       "<Figure size 432x288 with 1 Axes>"
      ]
     },
     "metadata": {
      "needs_background": "light"
     },
     "output_type": "display_data"
    },
    {
     "name": "stdout",
     "output_type": "stream",
     "text": [
      "El valor de a y b es:  -0.8955541374175707 10.127938204637314\n"
     ]
    }
   ],
   "source": [
    "plt.scatter(train.Precio,train.Demanda, color='blue') # elegimos la latitud porque presenta mayor relacion lineal\n",
    "a,b = np.polyfit(train.Precio, train.Demanda, 1) # cálculo de los coeficientes ordenada al origen y pendiente \n",
    "                                                       # en una sola línea\n",
    "x1 = min(train.Precio) # definamos los límites de la recta para dibujarla\n",
    "x2 = max(train.Demanda)\n",
    "plt.plot([x1,x2], [a*x1 + b, a*x2 + b], color='red')\n",
    "plt.show() \n",
    "print (\"El valor de a y b es: \", a,b)"
   ]
  },
  {
   "cell_type": "code",
   "execution_count": null,
   "metadata": {},
   "outputs": [],
   "source": [
    "## Predicción para varios casos de demanda (2.5, 1.5,5.75,6.75,7.10)"
   ]
  },
  {
   "cell_type": "code",
   "execution_count": 13,
   "metadata": {},
   "outputs": [
    {
     "name": "stdout",
     "output_type": "stream",
     "text": [
      "Predecir demanda para un precio de 2.50:  8.0\n",
      "Predecir demanda para un precio de 1.50:  9.0\n",
      "Predecir demanda para un precio de 5.75:  5.0\n",
      "Predecir demanda para un precio de 7.10:  4.0\n"
     ]
    }
   ],
   "source": [
    "print (\"Predecir demanda para un precio de 2.50: \", round(a*2.50+b) )\n",
    "print (\"Predecir demanda para un precio de 1.50: \", round(a*1.50+b) )\n",
    "print (\"Predecir demanda para un precio de 5.75: \", round(a*5.75+b) )\n",
    "print (\"Predecir demanda para un precio de 7.10: \", round(a*7.10+b) )"
   ]
  },
  {
   "cell_type": "code",
   "execution_count": null,
   "metadata": {},
   "outputs": [],
   "source": []
  }
 ],
 "metadata": {
  "kernelspec": {
   "display_name": "Python 3",
   "language": "python",
   "name": "python3"
  },
  "language_info": {
   "codemirror_mode": {
    "name": "ipython",
    "version": 3
   },
   "file_extension": ".py",
   "mimetype": "text/x-python",
   "name": "python",
   "nbconvert_exporter": "python",
   "pygments_lexer": "ipython3",
   "version": "3.7.0"
  }
 },
 "nbformat": 4,
 "nbformat_minor": 2
}
